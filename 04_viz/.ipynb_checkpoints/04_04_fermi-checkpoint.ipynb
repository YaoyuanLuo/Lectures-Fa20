{
 "cells": [
  {
   "cell_type": "markdown",
   "metadata": {
    "slideshow": {
     "slide_type": "slide"
    }
   },
   "source": [
    "# Data Intuition (Cont'd)\n",
    "\n",
    "Putting it all together:\n",
    "- pandas\n",
    "- data wrangling\n",
    "- data intuition\n",
    "- descriptive statistics\n",
    "- wisdom of the crowds\n",
    "\n",
    "We'll use your responses to the Fermi estimation Google Form to do this."
   ]
  },
  {
   "cell_type": "markdown",
   "metadata": {
    "slideshow": {
     "slide_type": "slide"
    }
   },
   "source": [
    "## Setup"
   ]
  },
  {
   "cell_type": "code",
   "execution_count": 1,
   "metadata": {
    "collapsed": true,
    "slideshow": {
     "slide_type": "-"
    }
   },
   "outputs": [],
   "source": [
    "# import working with data libraries\n",
    "import pandas as pd\n",
    "import numpy as np"
   ]
  },
  {
   "cell_type": "markdown",
   "metadata": {
    "slideshow": {
     "slide_type": "slide"
    }
   },
   "source": [
    "## The Data"
   ]
  },
  {
   "cell_type": "code",
   "execution_count": 2,
   "metadata": {
    "collapsed": true,
    "slideshow": {
     "slide_type": "-"
    }
   },
   "outputs": [],
   "source": [
    "# read data into Python\n",
    "df = pd.read_csv('data/fermi_fa20.csv')"
   ]
  },
  {
   "cell_type": "code",
   "execution_count": 3,
   "metadata": {
    "scrolled": false,
    "slideshow": {
     "slide_type": "fragment"
    }
   },
   "outputs": [
    {
     "data": {
      "text/html": [
       "<div>\n",
       "<style>\n",
       "    .dataframe thead tr:only-child th {\n",
       "        text-align: right;\n",
       "    }\n",
       "\n",
       "    .dataframe thead th {\n",
       "        text-align: left;\n",
       "    }\n",
       "\n",
       "    .dataframe tbody tr th {\n",
       "        vertical-align: top;\n",
       "    }\n",
       "</style>\n",
       "<table border=\"1\" class=\"dataframe\">\n",
       "  <thead>\n",
       "    <tr style=\"text-align: right;\">\n",
       "      <th></th>\n",
       "      <th>Timestamp</th>\n",
       "      <th>How fast does human hair grow (cm/yr)?</th>\n",
       "      <th>If every living person stood crammed together side-by-side, how large of an area would they occupy (km²)?</th>\n",
       "      <th>How many days would it take to walk from here to New York City (assuming no stopping to fix shoes, apply sunscreen, or for sleeping, eating, or other biological needs)?</th>\n",
       "    </tr>\n",
       "  </thead>\n",
       "  <tbody>\n",
       "    <tr>\n",
       "      <th>0</th>\n",
       "      <td>10/10/20 2:37</td>\n",
       "      <td>20</td>\n",
       "      <td>3500000</td>\n",
       "      <td>10</td>\n",
       "    </tr>\n",
       "    <tr>\n",
       "      <th>1</th>\n",
       "      <td>10/10/20 13:16</td>\n",
       "      <td>25</td>\n",
       "      <td>1 million</td>\n",
       "      <td>50</td>\n",
       "    </tr>\n",
       "    <tr>\n",
       "      <th>2</th>\n",
       "      <td>10/10/20 13:45</td>\n",
       "      <td>10^3 cm/yr</td>\n",
       "      <td>10^7 km^2</td>\n",
       "      <td>10^4</td>\n",
       "    </tr>\n",
       "    <tr>\n",
       "      <th>3</th>\n",
       "      <td>10/10/20 13:52</td>\n",
       "      <td>6cm/yr</td>\n",
       "      <td>1000km^2</td>\n",
       "      <td>200 days</td>\n",
       "    </tr>\n",
       "    <tr>\n",
       "      <th>4</th>\n",
       "      <td>10/10/20 14:18</td>\n",
       "      <td>81</td>\n",
       "      <td>16875000000</td>\n",
       "      <td>28000</td>\n",
       "    </tr>\n",
       "    <tr>\n",
       "      <th>5</th>\n",
       "      <td>10/10/20 14:29</td>\n",
       "      <td>15</td>\n",
       "      <td>10</td>\n",
       "      <td>200</td>\n",
       "    </tr>\n",
       "    <tr>\n",
       "      <th>6</th>\n",
       "      <td>10/10/20 16:21</td>\n",
       "      <td>10^2</td>\n",
       "      <td>10^2</td>\n",
       "      <td>10^3</td>\n",
       "    </tr>\n",
       "    <tr>\n",
       "      <th>7</th>\n",
       "      <td>10/10/20 16:32</td>\n",
       "      <td>20</td>\n",
       "      <td>250,000</td>\n",
       "      <td>100</td>\n",
       "    </tr>\n",
       "    <tr>\n",
       "      <th>8</th>\n",
       "      <td>10/10/20 16:42</td>\n",
       "      <td>15</td>\n",
       "      <td>800000</td>\n",
       "      <td>29 days</td>\n",
       "    </tr>\n",
       "    <tr>\n",
       "      <th>9</th>\n",
       "      <td>10/10/20 16:57</td>\n",
       "      <td>3</td>\n",
       "      <td>5,000,000</td>\n",
       "      <td>10</td>\n",
       "    </tr>\n",
       "    <tr>\n",
       "      <th>10</th>\n",
       "      <td>10/10/20 17:16</td>\n",
       "      <td>10^2</td>\n",
       "      <td>7 * 10^7</td>\n",
       "      <td>10^3</td>\n",
       "    </tr>\n",
       "    <tr>\n",
       "      <th>11</th>\n",
       "      <td>10/10/20 17:54</td>\n",
       "      <td>25</td>\n",
       "      <td>8000</td>\n",
       "      <td>21</td>\n",
       "    </tr>\n",
       "    <tr>\n",
       "      <th>12</th>\n",
       "      <td>10/10/20 18:06</td>\n",
       "      <td>10 cm/yr</td>\n",
       "      <td>750,000km^2</td>\n",
       "      <td>2 years</td>\n",
       "    </tr>\n",
       "    <tr>\n",
       "      <th>13</th>\n",
       "      <td>10/10/20 19:06</td>\n",
       "      <td>12</td>\n",
       "      <td>10^4</td>\n",
       "      <td>300</td>\n",
       "    </tr>\n",
       "    <tr>\n",
       "      <th>14</th>\n",
       "      <td>10/10/20 22:11</td>\n",
       "      <td>30</td>\n",
       "      <td>100</td>\n",
       "      <td>180</td>\n",
       "    </tr>\n",
       "    <tr>\n",
       "      <th>15</th>\n",
       "      <td>10/10/20 22:20</td>\n",
       "      <td>5</td>\n",
       "      <td>100</td>\n",
       "      <td>50</td>\n",
       "    </tr>\n",
       "    <tr>\n",
       "      <th>16</th>\n",
       "      <td>10/10/20 23:03</td>\n",
       "      <td>100</td>\n",
       "      <td>10000</td>\n",
       "      <td>forever</td>\n",
       "    </tr>\n",
       "    <tr>\n",
       "      <th>17</th>\n",
       "      <td>10/11/20 0:14</td>\n",
       "      <td>10</td>\n",
       "      <td>10^5</td>\n",
       "      <td>10</td>\n",
       "    </tr>\n",
       "    <tr>\n",
       "      <th>18</th>\n",
       "      <td>10/11/20 0:55</td>\n",
       "      <td>24</td>\n",
       "      <td>6,000,000,000,000</td>\n",
       "      <td>35</td>\n",
       "    </tr>\n",
       "    <tr>\n",
       "      <th>19</th>\n",
       "      <td>10/11/20 3:28</td>\n",
       "      <td>100</td>\n",
       "      <td>10000</td>\n",
       "      <td>100</td>\n",
       "    </tr>\n",
       "    <tr>\n",
       "      <th>20</th>\n",
       "      <td>10/11/20 10:05</td>\n",
       "      <td>10^1</td>\n",
       "      <td>10^8</td>\n",
       "      <td>10^4</td>\n",
       "    </tr>\n",
       "    <tr>\n",
       "      <th>21</th>\n",
       "      <td>10/11/20 11:45</td>\n",
       "      <td>12</td>\n",
       "      <td>1,000,000</td>\n",
       "      <td>100</td>\n",
       "    </tr>\n",
       "    <tr>\n",
       "      <th>22</th>\n",
       "      <td>10/11/20 12:30</td>\n",
       "      <td>19</td>\n",
       "      <td>1000</td>\n",
       "      <td>50</td>\n",
       "    </tr>\n",
       "    <tr>\n",
       "      <th>23</th>\n",
       "      <td>10/11/20 12:30</td>\n",
       "      <td>12</td>\n",
       "      <td>100,000</td>\n",
       "      <td>20</td>\n",
       "    </tr>\n",
       "    <tr>\n",
       "      <th>24</th>\n",
       "      <td>10/11/20 16:36</td>\n",
       "      <td>15</td>\n",
       "      <td>1000</td>\n",
       "      <td>45</td>\n",
       "    </tr>\n",
       "    <tr>\n",
       "      <th>25</th>\n",
       "      <td>10/11/20 17:55</td>\n",
       "      <td>10</td>\n",
       "      <td>4000</td>\n",
       "      <td>12</td>\n",
       "    </tr>\n",
       "    <tr>\n",
       "      <th>26</th>\n",
       "      <td>10/11/20 18:59</td>\n",
       "      <td>25</td>\n",
       "      <td>7,000,000,000,000</td>\n",
       "      <td>50</td>\n",
       "    </tr>\n",
       "    <tr>\n",
       "      <th>27</th>\n",
       "      <td>10/11/20 20:31</td>\n",
       "      <td>10</td>\n",
       "      <td>7000000000</td>\n",
       "      <td>30</td>\n",
       "    </tr>\n",
       "    <tr>\n",
       "      <th>28</th>\n",
       "      <td>10/11/20 21:52</td>\n",
       "      <td>25</td>\n",
       "      <td>1000</td>\n",
       "      <td>150</td>\n",
       "    </tr>\n",
       "    <tr>\n",
       "      <th>29</th>\n",
       "      <td>10/11/20 23:53</td>\n",
       "      <td>20</td>\n",
       "      <td>1000000</td>\n",
       "      <td>365</td>\n",
       "    </tr>\n",
       "    <tr>\n",
       "      <th>...</th>\n",
       "      <td>...</td>\n",
       "      <td>...</td>\n",
       "      <td>...</td>\n",
       "      <td>...</td>\n",
       "    </tr>\n",
       "    <tr>\n",
       "      <th>161</th>\n",
       "      <td>10/14/20 20:27</td>\n",
       "      <td>6</td>\n",
       "      <td>80000</td>\n",
       "      <td>43</td>\n",
       "    </tr>\n",
       "    <tr>\n",
       "      <th>162</th>\n",
       "      <td>10/14/20 21:05</td>\n",
       "      <td>8</td>\n",
       "      <td>100</td>\n",
       "      <td>1200</td>\n",
       "    </tr>\n",
       "    <tr>\n",
       "      <th>163</th>\n",
       "      <td>10/14/20 21:22</td>\n",
       "      <td>8</td>\n",
       "      <td>50</td>\n",
       "      <td>40</td>\n",
       "    </tr>\n",
       "    <tr>\n",
       "      <th>164</th>\n",
       "      <td>10/14/20 22:56</td>\n",
       "      <td>10</td>\n",
       "      <td>60000</td>\n",
       "      <td>40</td>\n",
       "    </tr>\n",
       "    <tr>\n",
       "      <th>165</th>\n",
       "      <td>10/14/20 23:25</td>\n",
       "      <td>80</td>\n",
       "      <td>2*10^6</td>\n",
       "      <td>1,500</td>\n",
       "    </tr>\n",
       "    <tr>\n",
       "      <th>166</th>\n",
       "      <td>10/15/20 0:16</td>\n",
       "      <td>12</td>\n",
       "      <td>175</td>\n",
       "      <td>100</td>\n",
       "    </tr>\n",
       "    <tr>\n",
       "      <th>167</th>\n",
       "      <td>10/15/20 0:41</td>\n",
       "      <td>10^2</td>\n",
       "      <td>10^-3km per person, 10^9 people on earth, answ...</td>\n",
       "      <td>10^3</td>\n",
       "    </tr>\n",
       "    <tr>\n",
       "      <th>168</th>\n",
       "      <td>10/15/20 1:32</td>\n",
       "      <td>14</td>\n",
       "      <td>100</td>\n",
       "      <td>100</td>\n",
       "    </tr>\n",
       "    <tr>\n",
       "      <th>169</th>\n",
       "      <td>10/15/20 7:19</td>\n",
       "      <td>15</td>\n",
       "      <td>650000</td>\n",
       "      <td>28</td>\n",
       "    </tr>\n",
       "    <tr>\n",
       "      <th>170</th>\n",
       "      <td>10/15/20 10:31</td>\n",
       "      <td>10</td>\n",
       "      <td>2.4 *10</td>\n",
       "      <td>1.8 * 10</td>\n",
       "    </tr>\n",
       "    <tr>\n",
       "      <th>171</th>\n",
       "      <td>10/15/20 10:38</td>\n",
       "      <td>5cm/yr</td>\n",
       "      <td>100000km^2</td>\n",
       "      <td>3 months</td>\n",
       "    </tr>\n",
       "    <tr>\n",
       "      <th>172</th>\n",
       "      <td>10/15/20 12:53</td>\n",
       "      <td>10</td>\n",
       "      <td>1000000</td>\n",
       "      <td>1000</td>\n",
       "    </tr>\n",
       "    <tr>\n",
       "      <th>173</th>\n",
       "      <td>10/15/20 14:09</td>\n",
       "      <td>8</td>\n",
       "      <td>3500000</td>\n",
       "      <td>25</td>\n",
       "    </tr>\n",
       "    <tr>\n",
       "      <th>174</th>\n",
       "      <td>10/15/20 15:05</td>\n",
       "      <td>16</td>\n",
       "      <td>10000</td>\n",
       "      <td>9</td>\n",
       "    </tr>\n",
       "    <tr>\n",
       "      <th>175</th>\n",
       "      <td>10/15/20 18:20</td>\n",
       "      <td>15</td>\n",
       "      <td>1500 km^2</td>\n",
       "      <td>50 days</td>\n",
       "    </tr>\n",
       "    <tr>\n",
       "      <th>176</th>\n",
       "      <td>10/15/20 19:55</td>\n",
       "      <td>10</td>\n",
       "      <td>10^9</td>\n",
       "      <td>10^5</td>\n",
       "    </tr>\n",
       "    <tr>\n",
       "      <th>177</th>\n",
       "      <td>10/15/20 21:01</td>\n",
       "      <td>10</td>\n",
       "      <td>1</td>\n",
       "      <td>6 days</td>\n",
       "    </tr>\n",
       "    <tr>\n",
       "      <th>178</th>\n",
       "      <td>10/15/20 21:56</td>\n",
       "      <td>10</td>\n",
       "      <td>700000</td>\n",
       "      <td>20</td>\n",
       "    </tr>\n",
       "    <tr>\n",
       "      <th>179</th>\n",
       "      <td>10/15/20 22:26</td>\n",
       "      <td>20</td>\n",
       "      <td>2000000</td>\n",
       "      <td>1300</td>\n",
       "    </tr>\n",
       "    <tr>\n",
       "      <th>180</th>\n",
       "      <td>10/16/20 9:54</td>\n",
       "      <td>10</td>\n",
       "      <td>10000</td>\n",
       "      <td>40</td>\n",
       "    </tr>\n",
       "    <tr>\n",
       "      <th>181</th>\n",
       "      <td>10/16/20 10:25</td>\n",
       "      <td>10</td>\n",
       "      <td>2000</td>\n",
       "      <td>50</td>\n",
       "    </tr>\n",
       "    <tr>\n",
       "      <th>182</th>\n",
       "      <td>10/16/20 13:47</td>\n",
       "      <td>30</td>\n",
       "      <td>5000</td>\n",
       "      <td>30</td>\n",
       "    </tr>\n",
       "    <tr>\n",
       "      <th>183</th>\n",
       "      <td>10/16/20 14:19</td>\n",
       "      <td>24</td>\n",
       "      <td>100,000</td>\n",
       "      <td>100</td>\n",
       "    </tr>\n",
       "    <tr>\n",
       "      <th>184</th>\n",
       "      <td>10/16/20 15:55</td>\n",
       "      <td>10</td>\n",
       "      <td>8,000,000,000</td>\n",
       "      <td>150</td>\n",
       "    </tr>\n",
       "    <tr>\n",
       "      <th>185</th>\n",
       "      <td>10/16/20 17:14</td>\n",
       "      <td>40</td>\n",
       "      <td>4000</td>\n",
       "      <td>30</td>\n",
       "    </tr>\n",
       "    <tr>\n",
       "      <th>186</th>\n",
       "      <td>10/16/20 18:00</td>\n",
       "      <td>12</td>\n",
       "      <td>650</td>\n",
       "      <td>42 (I'm assuming \"here\" means ucsd)</td>\n",
       "    </tr>\n",
       "    <tr>\n",
       "      <th>187</th>\n",
       "      <td>10/16/20 20:05</td>\n",
       "      <td>10</td>\n",
       "      <td>2500000</td>\n",
       "      <td>1000</td>\n",
       "    </tr>\n",
       "    <tr>\n",
       "      <th>188</th>\n",
       "      <td>10/16/20 22:32</td>\n",
       "      <td>7</td>\n",
       "      <td>100000</td>\n",
       "      <td>240</td>\n",
       "    </tr>\n",
       "    <tr>\n",
       "      <th>189</th>\n",
       "      <td>10/16/20 23:04</td>\n",
       "      <td>20</td>\n",
       "      <td>500000</td>\n",
       "      <td>40</td>\n",
       "    </tr>\n",
       "    <tr>\n",
       "      <th>190</th>\n",
       "      <td>10/22/20 0:47</td>\n",
       "      <td>10^1 cm</td>\n",
       "      <td>10^9</td>\n",
       "      <td>10^2</td>\n",
       "    </tr>\n",
       "  </tbody>\n",
       "</table>\n",
       "<p>191 rows × 4 columns</p>\n",
       "</div>"
      ],
      "text/plain": [
       "          Timestamp How fast does human hair grow (cm/yr)?  \\\n",
       "0     10/10/20 2:37                                     20   \n",
       "1    10/10/20 13:16                                     25   \n",
       "2    10/10/20 13:45                             10^3 cm/yr   \n",
       "3    10/10/20 13:52                                 6cm/yr   \n",
       "4    10/10/20 14:18                                     81   \n",
       "5    10/10/20 14:29                                     15   \n",
       "6    10/10/20 16:21                                   10^2   \n",
       "7    10/10/20 16:32                                     20   \n",
       "8    10/10/20 16:42                                     15   \n",
       "9    10/10/20 16:57                                      3   \n",
       "10   10/10/20 17:16                                   10^2   \n",
       "11   10/10/20 17:54                                     25   \n",
       "12   10/10/20 18:06                               10 cm/yr   \n",
       "13   10/10/20 19:06                                     12   \n",
       "14   10/10/20 22:11                                     30   \n",
       "15   10/10/20 22:20                                      5   \n",
       "16   10/10/20 23:03                                    100   \n",
       "17    10/11/20 0:14                                     10   \n",
       "18    10/11/20 0:55                                     24   \n",
       "19    10/11/20 3:28                                    100   \n",
       "20   10/11/20 10:05                                   10^1   \n",
       "21   10/11/20 11:45                                     12   \n",
       "22   10/11/20 12:30                                     19   \n",
       "23   10/11/20 12:30                                     12   \n",
       "24   10/11/20 16:36                                     15   \n",
       "25   10/11/20 17:55                                     10   \n",
       "26   10/11/20 18:59                                     25   \n",
       "27   10/11/20 20:31                                     10   \n",
       "28   10/11/20 21:52                                     25   \n",
       "29   10/11/20 23:53                                     20   \n",
       "..              ...                                    ...   \n",
       "161  10/14/20 20:27                                      6   \n",
       "162  10/14/20 21:05                                      8   \n",
       "163  10/14/20 21:22                                      8   \n",
       "164  10/14/20 22:56                                     10   \n",
       "165  10/14/20 23:25                                     80   \n",
       "166   10/15/20 0:16                                     12   \n",
       "167   10/15/20 0:41                                   10^2   \n",
       "168   10/15/20 1:32                                     14   \n",
       "169   10/15/20 7:19                                     15   \n",
       "170  10/15/20 10:31                                     10   \n",
       "171  10/15/20 10:38                                 5cm/yr   \n",
       "172  10/15/20 12:53                                     10   \n",
       "173  10/15/20 14:09                                      8   \n",
       "174  10/15/20 15:05                                     16   \n",
       "175  10/15/20 18:20                                     15   \n",
       "176  10/15/20 19:55                                     10   \n",
       "177  10/15/20 21:01                                     10   \n",
       "178  10/15/20 21:56                                     10   \n",
       "179  10/15/20 22:26                                     20   \n",
       "180   10/16/20 9:54                                     10   \n",
       "181  10/16/20 10:25                                     10   \n",
       "182  10/16/20 13:47                                     30   \n",
       "183  10/16/20 14:19                                     24   \n",
       "184  10/16/20 15:55                                     10   \n",
       "185  10/16/20 17:14                                     40   \n",
       "186  10/16/20 18:00                                     12   \n",
       "187  10/16/20 20:05                                     10   \n",
       "188  10/16/20 22:32                                      7   \n",
       "189  10/16/20 23:04                                     20   \n",
       "190   10/22/20 0:47                                10^1 cm   \n",
       "\n",
       "    If every living person stood crammed together side-by-side, how large of an area would they occupy (km²)?  \\\n",
       "0                                              3500000                                                          \n",
       "1                                            1 million                                                          \n",
       "2                                            10^7 km^2                                                          \n",
       "3                                             1000km^2                                                          \n",
       "4                                          16875000000                                                          \n",
       "5                                                   10                                                          \n",
       "6                                                 10^2                                                          \n",
       "7                                              250,000                                                          \n",
       "8                                               800000                                                          \n",
       "9                                            5,000,000                                                          \n",
       "10                                            7 * 10^7                                                          \n",
       "11                                                8000                                                          \n",
       "12                                         750,000km^2                                                          \n",
       "13                                                10^4                                                          \n",
       "14                                                 100                                                          \n",
       "15                                                 100                                                          \n",
       "16                                               10000                                                          \n",
       "17                                                10^5                                                          \n",
       "18                                   6,000,000,000,000                                                          \n",
       "19                                               10000                                                          \n",
       "20                                                10^8                                                          \n",
       "21                                           1,000,000                                                          \n",
       "22                                                1000                                                          \n",
       "23                                             100,000                                                          \n",
       "24                                                1000                                                          \n",
       "25                                                4000                                                          \n",
       "26                                   7,000,000,000,000                                                          \n",
       "27                                          7000000000                                                          \n",
       "28                                                1000                                                          \n",
       "29                                             1000000                                                          \n",
       "..                                                 ...                                                          \n",
       "161                                              80000                                                          \n",
       "162                                                100                                                          \n",
       "163                                                 50                                                          \n",
       "164                                              60000                                                          \n",
       "165                                             2*10^6                                                          \n",
       "166                                                175                                                          \n",
       "167  10^-3km per person, 10^9 people on earth, answ...                                                          \n",
       "168                                                100                                                          \n",
       "169                                             650000                                                          \n",
       "170                                            2.4 *10                                                          \n",
       "171                                         100000km^2                                                          \n",
       "172                                            1000000                                                          \n",
       "173                                            3500000                                                          \n",
       "174                                              10000                                                          \n",
       "175                                          1500 km^2                                                          \n",
       "176                                               10^9                                                          \n",
       "177                                                  1                                                          \n",
       "178                                             700000                                                          \n",
       "179                                            2000000                                                          \n",
       "180                                              10000                                                          \n",
       "181                                               2000                                                          \n",
       "182                                               5000                                                          \n",
       "183                                            100,000                                                          \n",
       "184                                      8,000,000,000                                                          \n",
       "185                                               4000                                                          \n",
       "186                                                650                                                          \n",
       "187                                            2500000                                                          \n",
       "188                                             100000                                                          \n",
       "189                                             500000                                                          \n",
       "190                                               10^9                                                          \n",
       "\n",
       "    How many days would it take to walk from here to New York City (assuming no stopping to fix shoes, apply sunscreen, or for sleeping, eating, or other biological needs)?  \n",
       "0                                                   10                                                                                                                        \n",
       "1                                                   50                                                                                                                        \n",
       "2                                                 10^4                                                                                                                        \n",
       "3                                            200 days                                                                                                                         \n",
       "4                                                28000                                                                                                                        \n",
       "5                                                  200                                                                                                                        \n",
       "6                                                 10^3                                                                                                                        \n",
       "7                                                  100                                                                                                                        \n",
       "8                                              29 days                                                                                                                        \n",
       "9                                                   10                                                                                                                        \n",
       "10                                                10^3                                                                                                                        \n",
       "11                                                  21                                                                                                                        \n",
       "12                                             2 years                                                                                                                        \n",
       "13                                                 300                                                                                                                        \n",
       "14                                                 180                                                                                                                        \n",
       "15                                                  50                                                                                                                        \n",
       "16                                             forever                                                                                                                        \n",
       "17                                                  10                                                                                                                        \n",
       "18                                                  35                                                                                                                        \n",
       "19                                                 100                                                                                                                        \n",
       "20                                                10^4                                                                                                                        \n",
       "21                                                 100                                                                                                                        \n",
       "22                                                  50                                                                                                                        \n",
       "23                                                  20                                                                                                                        \n",
       "24                                                  45                                                                                                                        \n",
       "25                                                  12                                                                                                                        \n",
       "26                                                  50                                                                                                                        \n",
       "27                                                  30                                                                                                                        \n",
       "28                                                 150                                                                                                                        \n",
       "29                                                 365                                                                                                                        \n",
       "..                                                 ...                                                                                                                        \n",
       "161                                                 43                                                                                                                        \n",
       "162                                               1200                                                                                                                        \n",
       "163                                                 40                                                                                                                        \n",
       "164                                                 40                                                                                                                        \n",
       "165                                              1,500                                                                                                                        \n",
       "166                                                100                                                                                                                        \n",
       "167                                               10^3                                                                                                                        \n",
       "168                                                100                                                                                                                        \n",
       "169                                                 28                                                                                                                        \n",
       "170                                           1.8 * 10                                                                                                                        \n",
       "171                                           3 months                                                                                                                        \n",
       "172                                               1000                                                                                                                        \n",
       "173                                                 25                                                                                                                        \n",
       "174                                                  9                                                                                                                        \n",
       "175                                            50 days                                                                                                                        \n",
       "176                                               10^5                                                                                                                        \n",
       "177                                            6 days                                                                                                                         \n",
       "178                                                 20                                                                                                                        \n",
       "179                                               1300                                                                                                                        \n",
       "180                                                 40                                                                                                                        \n",
       "181                                                 50                                                                                                                        \n",
       "182                                                 30                                                                                                                        \n",
       "183                                                100                                                                                                                        \n",
       "184                                                150                                                                                                                        \n",
       "185                                                 30                                                                                                                        \n",
       "186                42 (I'm assuming \"here\" means ucsd)                                                                                                                        \n",
       "187                                               1000                                                                                                                        \n",
       "188                                                240                                                                                                                        \n",
       "189                                                 40                                                                                                                        \n",
       "190                                               10^2                                                                                                                        \n",
       "\n",
       "[191 rows x 4 columns]"
      ]
     },
     "execution_count": 3,
     "metadata": {},
     "output_type": "execute_result"
    }
   ],
   "source": [
    "# take a look at the data\n",
    "df"
   ]
  },
  {
   "cell_type": "markdown",
   "metadata": {
    "slideshow": {
     "slide_type": "slide"
    }
   },
   "source": [
    "## Data Cleaning & Wrangling\n",
    "\n",
    "Tidy Data Rules (Review):\n",
    "1. Every observation in a row\n",
    "2. Every variable in a column\n",
    "3. If multiple tables, column on which to merge"
   ]
  },
  {
   "cell_type": "markdown",
   "metadata": {
    "slideshow": {
     "slide_type": "slide"
    }
   },
   "source": [
    "### Thought Question #1\n",
    "\n",
    "Are these data in the tidy data format?\n",
    "\n",
    "- A) Yes, these data are ready to analyze\n",
    "- B) Yes, but there is more work to do before analysis\n",
    "- C) No, not tidy\n",
    "- D) Have no idea what you're talking about"
   ]
  },
  {
   "cell_type": "markdown",
   "metadata": {
    "slideshow": {
     "slide_type": "slide"
    }
   },
   "source": [
    "## Brainstorming\n",
    "\n",
    "What considerations do we have to make about these data?\n",
    "\n",
    "- handling non-numeric answers (i.e. \"lots\")\n",
    "- handle units in answer\n",
    "- unreasonably large/small number (outliers)? (not thoughtful, or joking)\n",
    "- scientific notation"
   ]
  },
  {
   "cell_type": "code",
   "execution_count": 4,
   "metadata": {
    "scrolled": true,
    "slideshow": {
     "slide_type": "slide"
    }
   },
   "outputs": [
    {
     "data": {
      "text/html": [
       "<div>\n",
       "<style>\n",
       "    .dataframe thead tr:only-child th {\n",
       "        text-align: right;\n",
       "    }\n",
       "\n",
       "    .dataframe thead th {\n",
       "        text-align: left;\n",
       "    }\n",
       "\n",
       "    .dataframe tbody tr th {\n",
       "        vertical-align: top;\n",
       "    }\n",
       "</style>\n",
       "<table border=\"1\" class=\"dataframe\">\n",
       "  <thead>\n",
       "    <tr style=\"text-align: right;\">\n",
       "      <th></th>\n",
       "      <th>timestamp</th>\n",
       "      <th>hair_growth</th>\n",
       "      <th>crammed</th>\n",
       "      <th>SAN_NYC</th>\n",
       "    </tr>\n",
       "  </thead>\n",
       "  <tbody>\n",
       "    <tr>\n",
       "      <th>0</th>\n",
       "      <td>10/10/20 2:37</td>\n",
       "      <td>20</td>\n",
       "      <td>3500000</td>\n",
       "      <td>10</td>\n",
       "    </tr>\n",
       "    <tr>\n",
       "      <th>1</th>\n",
       "      <td>10/10/20 13:16</td>\n",
       "      <td>25</td>\n",
       "      <td>1 million</td>\n",
       "      <td>50</td>\n",
       "    </tr>\n",
       "    <tr>\n",
       "      <th>2</th>\n",
       "      <td>10/10/20 13:45</td>\n",
       "      <td>10^3 cm/yr</td>\n",
       "      <td>10^7 km^2</td>\n",
       "      <td>10^4</td>\n",
       "    </tr>\n",
       "    <tr>\n",
       "      <th>3</th>\n",
       "      <td>10/10/20 13:52</td>\n",
       "      <td>6cm/yr</td>\n",
       "      <td>1000km^2</td>\n",
       "      <td>200 days</td>\n",
       "    </tr>\n",
       "    <tr>\n",
       "      <th>4</th>\n",
       "      <td>10/10/20 14:18</td>\n",
       "      <td>81</td>\n",
       "      <td>16875000000</td>\n",
       "      <td>28000</td>\n",
       "    </tr>\n",
       "  </tbody>\n",
       "</table>\n",
       "</div>"
      ],
      "text/plain": [
       "        timestamp hair_growth      crammed    SAN_NYC\n",
       "0   10/10/20 2:37          20      3500000         10\n",
       "1  10/10/20 13:16          25    1 million         50\n",
       "2  10/10/20 13:45  10^3 cm/yr    10^7 km^2       10^4\n",
       "3  10/10/20 13:52      6cm/yr     1000km^2  200 days \n",
       "4  10/10/20 14:18          81  16875000000      28000"
      ]
     },
     "execution_count": 4,
     "metadata": {},
     "output_type": "execute_result"
    }
   ],
   "source": [
    "# change column names\n",
    "df.columns = ['timestamp', 'hair_growth', 'crammed', 'SAN_NYC']\n",
    "df.head()"
   ]
  },
  {
   "cell_type": "code",
   "execution_count": 5,
   "metadata": {
    "scrolled": true,
    "slideshow": {
     "slide_type": "slide"
    }
   },
   "outputs": [
    {
     "data": {
      "text/plain": [
       "timestamp      object\n",
       "hair_growth    object\n",
       "crammed        object\n",
       "SAN_NYC        object\n",
       "dtype: object"
      ]
     },
     "execution_count": 5,
     "metadata": {},
     "output_type": "execute_result"
    }
   ],
   "source": [
    "# check type of each Series (column)\n",
    "df.dtypes"
   ]
  },
  {
   "cell_type": "code",
   "execution_count": 6,
   "metadata": {
    "scrolled": true,
    "slideshow": {
     "slide_type": "slide"
    }
   },
   "outputs": [
    {
     "ename": "TypeError",
     "evalue": "could not convert string to float: '10^1 cm'",
     "output_type": "error",
     "traceback": [
      "\u001b[0;31m---------------------------------------------------------------------------\u001b[0m",
      "\u001b[0;31mValueError\u001b[0m                                Traceback (most recent call last)",
      "\u001b[0;32m~/anaconda3/lib/python3.6/site-packages/pandas/core/nanops.py\u001b[0m in \u001b[0;36mf\u001b[0;34m(values, axis, skipna, **kwds)\u001b[0m\n\u001b[1;32m    118\u001b[0m                 \u001b[0;32melse\u001b[0m\u001b[0;34m:\u001b[0m\u001b[0;34m\u001b[0m\u001b[0m\n\u001b[0;32m--> 119\u001b[0;31m                     \u001b[0mresult\u001b[0m \u001b[0;34m=\u001b[0m \u001b[0malt\u001b[0m\u001b[0;34m(\u001b[0m\u001b[0mvalues\u001b[0m\u001b[0;34m,\u001b[0m \u001b[0maxis\u001b[0m\u001b[0;34m=\u001b[0m\u001b[0maxis\u001b[0m\u001b[0;34m,\u001b[0m \u001b[0mskipna\u001b[0m\u001b[0;34m=\u001b[0m\u001b[0mskipna\u001b[0m\u001b[0;34m,\u001b[0m \u001b[0;34m**\u001b[0m\u001b[0mkwds\u001b[0m\u001b[0;34m)\u001b[0m\u001b[0;34m\u001b[0m\u001b[0m\n\u001b[0m\u001b[1;32m    120\u001b[0m             \u001b[0;32mexcept\u001b[0m \u001b[0mException\u001b[0m\u001b[0;34m:\u001b[0m\u001b[0;34m\u001b[0m\u001b[0m\n",
      "\u001b[0;32m~/anaconda3/lib/python3.6/site-packages/pandas/core/nanops.py\u001b[0m in \u001b[0;36mnanmedian\u001b[0;34m(values, axis, skipna)\u001b[0m\n\u001b[1;32m    337\u001b[0m     \u001b[0;32mif\u001b[0m \u001b[0;32mnot\u001b[0m \u001b[0mis_float_dtype\u001b[0m\u001b[0;34m(\u001b[0m\u001b[0mvalues\u001b[0m\u001b[0;34m)\u001b[0m\u001b[0;34m:\u001b[0m\u001b[0;34m\u001b[0m\u001b[0m\n\u001b[0;32m--> 338\u001b[0;31m         \u001b[0mvalues\u001b[0m \u001b[0;34m=\u001b[0m \u001b[0mvalues\u001b[0m\u001b[0;34m.\u001b[0m\u001b[0mastype\u001b[0m\u001b[0;34m(\u001b[0m\u001b[0;34m'f8'\u001b[0m\u001b[0;34m)\u001b[0m\u001b[0;34m\u001b[0m\u001b[0m\n\u001b[0m\u001b[1;32m    339\u001b[0m         \u001b[0mvalues\u001b[0m\u001b[0;34m[\u001b[0m\u001b[0mmask\u001b[0m\u001b[0;34m]\u001b[0m \u001b[0;34m=\u001b[0m \u001b[0mnp\u001b[0m\u001b[0;34m.\u001b[0m\u001b[0mnan\u001b[0m\u001b[0;34m\u001b[0m\u001b[0m\n",
      "\u001b[0;31mValueError\u001b[0m: could not convert string to float: '10^1 cm'",
      "\nDuring handling of the above exception, another exception occurred:\n",
      "\u001b[0;31mValueError\u001b[0m                                Traceback (most recent call last)",
      "\u001b[0;32m~/anaconda3/lib/python3.6/site-packages/pandas/core/nanops.py\u001b[0m in \u001b[0;36mf\u001b[0;34m(values, axis, skipna, **kwds)\u001b[0m\n\u001b[1;32m    121\u001b[0m                 \u001b[0;32mtry\u001b[0m\u001b[0;34m:\u001b[0m\u001b[0;34m\u001b[0m\u001b[0m\n\u001b[0;32m--> 122\u001b[0;31m                     \u001b[0mresult\u001b[0m \u001b[0;34m=\u001b[0m \u001b[0malt\u001b[0m\u001b[0;34m(\u001b[0m\u001b[0mvalues\u001b[0m\u001b[0;34m,\u001b[0m \u001b[0maxis\u001b[0m\u001b[0;34m=\u001b[0m\u001b[0maxis\u001b[0m\u001b[0;34m,\u001b[0m \u001b[0mskipna\u001b[0m\u001b[0;34m=\u001b[0m\u001b[0mskipna\u001b[0m\u001b[0;34m,\u001b[0m \u001b[0;34m**\u001b[0m\u001b[0mkwds\u001b[0m\u001b[0;34m)\u001b[0m\u001b[0;34m\u001b[0m\u001b[0m\n\u001b[0m\u001b[1;32m    123\u001b[0m                 \u001b[0;32mexcept\u001b[0m \u001b[0mValueError\u001b[0m \u001b[0;32mas\u001b[0m \u001b[0me\u001b[0m\u001b[0;34m:\u001b[0m\u001b[0;34m\u001b[0m\u001b[0m\n",
      "\u001b[0;32m~/anaconda3/lib/python3.6/site-packages/pandas/core/nanops.py\u001b[0m in \u001b[0;36mnanmedian\u001b[0;34m(values, axis, skipna)\u001b[0m\n\u001b[1;32m    337\u001b[0m     \u001b[0;32mif\u001b[0m \u001b[0;32mnot\u001b[0m \u001b[0mis_float_dtype\u001b[0m\u001b[0;34m(\u001b[0m\u001b[0mvalues\u001b[0m\u001b[0;34m)\u001b[0m\u001b[0;34m:\u001b[0m\u001b[0;34m\u001b[0m\u001b[0m\n\u001b[0;32m--> 338\u001b[0;31m         \u001b[0mvalues\u001b[0m \u001b[0;34m=\u001b[0m \u001b[0mvalues\u001b[0m\u001b[0;34m.\u001b[0m\u001b[0mastype\u001b[0m\u001b[0;34m(\u001b[0m\u001b[0;34m'f8'\u001b[0m\u001b[0;34m)\u001b[0m\u001b[0;34m\u001b[0m\u001b[0m\n\u001b[0m\u001b[1;32m    339\u001b[0m         \u001b[0mvalues\u001b[0m\u001b[0;34m[\u001b[0m\u001b[0mmask\u001b[0m\u001b[0;34m]\u001b[0m \u001b[0;34m=\u001b[0m \u001b[0mnp\u001b[0m\u001b[0;34m.\u001b[0m\u001b[0mnan\u001b[0m\u001b[0;34m\u001b[0m\u001b[0m\n",
      "\u001b[0;31mValueError\u001b[0m: could not convert string to float: '10^1 cm'",
      "\nDuring handling of the above exception, another exception occurred:\n",
      "\u001b[0;31mTypeError\u001b[0m                                 Traceback (most recent call last)",
      "\u001b[0;32m<ipython-input-6-b37028737b43>\u001b[0m in \u001b[0;36m<module>\u001b[0;34m()\u001b[0m\n\u001b[1;32m      1\u001b[0m \u001b[0;31m# this cell will produce an error\u001b[0m\u001b[0;34m\u001b[0m\u001b[0;34m\u001b[0m\u001b[0m\n\u001b[0;32m----> 2\u001b[0;31m \u001b[0mdf\u001b[0m\u001b[0;34m[\u001b[0m\u001b[0;34m'hair_growth'\u001b[0m\u001b[0;34m]\u001b[0m\u001b[0;34m.\u001b[0m\u001b[0mmedian\u001b[0m\u001b[0;34m(\u001b[0m\u001b[0;34m)\u001b[0m\u001b[0;34m\u001b[0m\u001b[0m\n\u001b[0m",
      "\u001b[0;32m~/anaconda3/lib/python3.6/site-packages/pandas/core/generic.py\u001b[0m in \u001b[0;36mstat_func\u001b[0;34m(self, axis, skipna, level, numeric_only, **kwargs)\u001b[0m\n\u001b[1;32m   6340\u001b[0m                                       skipna=skipna)\n\u001b[1;32m   6341\u001b[0m         return self._reduce(f, name, axis=axis, skipna=skipna,\n\u001b[0;32m-> 6342\u001b[0;31m                             numeric_only=numeric_only)\n\u001b[0m\u001b[1;32m   6343\u001b[0m \u001b[0;34m\u001b[0m\u001b[0m\n\u001b[1;32m   6344\u001b[0m     \u001b[0;32mreturn\u001b[0m \u001b[0mset_function_name\u001b[0m\u001b[0;34m(\u001b[0m\u001b[0mstat_func\u001b[0m\u001b[0;34m,\u001b[0m \u001b[0mname\u001b[0m\u001b[0;34m,\u001b[0m \u001b[0mcls\u001b[0m\u001b[0;34m)\u001b[0m\u001b[0;34m\u001b[0m\u001b[0m\n",
      "\u001b[0;32m~/anaconda3/lib/python3.6/site-packages/pandas/core/series.py\u001b[0m in \u001b[0;36m_reduce\u001b[0;34m(self, op, name, axis, skipna, numeric_only, filter_type, **kwds)\u001b[0m\n\u001b[1;32m   2379\u001b[0m                                           'numeric_only.'.format(name))\n\u001b[1;32m   2380\u001b[0m             \u001b[0;32mwith\u001b[0m \u001b[0mnp\u001b[0m\u001b[0;34m.\u001b[0m\u001b[0merrstate\u001b[0m\u001b[0;34m(\u001b[0m\u001b[0mall\u001b[0m\u001b[0;34m=\u001b[0m\u001b[0;34m'ignore'\u001b[0m\u001b[0;34m)\u001b[0m\u001b[0;34m:\u001b[0m\u001b[0;34m\u001b[0m\u001b[0m\n\u001b[0;32m-> 2381\u001b[0;31m                 \u001b[0;32mreturn\u001b[0m \u001b[0mop\u001b[0m\u001b[0;34m(\u001b[0m\u001b[0mdelegate\u001b[0m\u001b[0;34m,\u001b[0m \u001b[0mskipna\u001b[0m\u001b[0;34m=\u001b[0m\u001b[0mskipna\u001b[0m\u001b[0;34m,\u001b[0m \u001b[0;34m**\u001b[0m\u001b[0mkwds\u001b[0m\u001b[0;34m)\u001b[0m\u001b[0;34m\u001b[0m\u001b[0m\n\u001b[0m\u001b[1;32m   2382\u001b[0m \u001b[0;34m\u001b[0m\u001b[0m\n\u001b[1;32m   2383\u001b[0m         return delegate._reduce(op=op, name=name, axis=axis, skipna=skipna,\n",
      "\u001b[0;32m~/anaconda3/lib/python3.6/site-packages/pandas/core/nanops.py\u001b[0m in \u001b[0;36m_f\u001b[0;34m(*args, **kwargs)\u001b[0m\n\u001b[1;32m     60\u001b[0m             \u001b[0;32mtry\u001b[0m\u001b[0;34m:\u001b[0m\u001b[0;34m\u001b[0m\u001b[0m\n\u001b[1;32m     61\u001b[0m                 \u001b[0;32mwith\u001b[0m \u001b[0mnp\u001b[0m\u001b[0;34m.\u001b[0m\u001b[0merrstate\u001b[0m\u001b[0;34m(\u001b[0m\u001b[0minvalid\u001b[0m\u001b[0;34m=\u001b[0m\u001b[0;34m'ignore'\u001b[0m\u001b[0;34m)\u001b[0m\u001b[0;34m:\u001b[0m\u001b[0;34m\u001b[0m\u001b[0m\n\u001b[0;32m---> 62\u001b[0;31m                     \u001b[0;32mreturn\u001b[0m \u001b[0mf\u001b[0m\u001b[0;34m(\u001b[0m\u001b[0;34m*\u001b[0m\u001b[0margs\u001b[0m\u001b[0;34m,\u001b[0m \u001b[0;34m**\u001b[0m\u001b[0mkwargs\u001b[0m\u001b[0;34m)\u001b[0m\u001b[0;34m\u001b[0m\u001b[0m\n\u001b[0m\u001b[1;32m     63\u001b[0m             \u001b[0;32mexcept\u001b[0m \u001b[0mValueError\u001b[0m \u001b[0;32mas\u001b[0m \u001b[0me\u001b[0m\u001b[0;34m:\u001b[0m\u001b[0;34m\u001b[0m\u001b[0m\n\u001b[1;32m     64\u001b[0m                 \u001b[0;31m# we want to transform an object array\u001b[0m\u001b[0;34m\u001b[0m\u001b[0;34m\u001b[0m\u001b[0m\n",
      "\u001b[0;32m~/anaconda3/lib/python3.6/site-packages/pandas/core/nanops.py\u001b[0m in \u001b[0;36mf\u001b[0;34m(values, axis, skipna, **kwds)\u001b[0m\n\u001b[1;32m    128\u001b[0m \u001b[0;34m\u001b[0m\u001b[0m\n\u001b[1;32m    129\u001b[0m                     \u001b[0;32mif\u001b[0m \u001b[0mis_object_dtype\u001b[0m\u001b[0;34m(\u001b[0m\u001b[0mvalues\u001b[0m\u001b[0;34m)\u001b[0m\u001b[0;34m:\u001b[0m\u001b[0;34m\u001b[0m\u001b[0m\n\u001b[0;32m--> 130\u001b[0;31m                         \u001b[0;32mraise\u001b[0m \u001b[0mTypeError\u001b[0m\u001b[0;34m(\u001b[0m\u001b[0me\u001b[0m\u001b[0;34m)\u001b[0m\u001b[0;34m\u001b[0m\u001b[0m\n\u001b[0m\u001b[1;32m    131\u001b[0m                     \u001b[0;32mraise\u001b[0m\u001b[0;34m\u001b[0m\u001b[0m\n\u001b[1;32m    132\u001b[0m \u001b[0;34m\u001b[0m\u001b[0m\n",
      "\u001b[0;31mTypeError\u001b[0m: could not convert string to float: '10^1 cm'"
     ]
    }
   ],
   "source": [
    "# this cell will produce an error\n",
    "df['hair_growth'].median()"
   ]
  },
  {
   "cell_type": "markdown",
   "metadata": {
    "slideshow": {
     "slide_type": "slide"
    }
   },
   "source": [
    "## Cleaning: Hair Growth\n",
    "\n",
    "How fast does human hair grow (cm/yr)?"
   ]
  },
  {
   "cell_type": "code",
   "execution_count": null,
   "metadata": {
    "slideshow": {
     "slide_type": "fragment"
    }
   },
   "outputs": [],
   "source": [
    "# take a look at unique values\n",
    "df[\"hair_growth\"].unique()"
   ]
  },
  {
   "cell_type": "code",
   "execution_count": null,
   "metadata": {
    "collapsed": true,
    "slideshow": {
     "slide_type": "fragment"
    }
   },
   "outputs": [],
   "source": [
    "# standardize height column\n",
    "def standardize_hair(string):\n",
    "    \n",
    "    output = None\n",
    "    \n",
    "    # Basic string pre-processing\n",
    "    string = string.lower()\n",
    "    string = string.strip()\n",
    "\n",
    "    # take care of unique cases\n",
    "    string = string.replace(\"60/1\", \"60\")\n",
    "    string = string.replace(\"1ft per year\", \"30.48\")\n",
    "    string = string.replace(\"10^1.2\", \"15.8\")\n",
    "    string = string.replace(\"10^(1.2)\", \"15.8\")\n",
    "    string = string.replace(\"0.5 in/month\", \"6\")\n",
    "    \n",
    "    # remove commas\n",
    "    string = string.replace(\",\", \"\")\n",
    "    \n",
    "    # take care of inculded unit cases\n",
    "    string = string.replace(\"cm/year\", \"\")\n",
    "    string = string.replace(\"cm/yr\", \"\")\n",
    "    string = string.replace(\"yr\", \"\")\n",
    "    string = string.replace(\"cm\", \"\")    \n",
    "    string = string.replace(\"/\", \"\")\n",
    "\n",
    "    # handle scientific notation\n",
    "    string = string.replace(\"^3\", \"00\")\n",
    "    string = string.replace(\"^2\", \"0\")\n",
    "    string = string.replace(\"^1\", \"\")\n",
    "    string = string.replace(\"10^(-2)\", \"0.1\")\n",
    "    string = string.replace(\"10^-2\", \"0.1\")\n",
    "\n",
    "    string = string.strip()\n",
    "\n",
    "    # convert to numeric\n",
    "    output = float(string)\n",
    "    \n",
    "    return output"
   ]
  },
  {
   "cell_type": "code",
   "execution_count": null,
   "metadata": {
    "slideshow": {
     "slide_type": "fragment"
    }
   },
   "outputs": [],
   "source": [
    "# apply function across values in hair growth columns\n",
    "df[\"hair_growth\"] = df[\"hair_growth\"].apply(standardize_hair)\n",
    "df[\"hair_growth\"].unique()"
   ]
  },
  {
   "cell_type": "code",
   "execution_count": null,
   "metadata": {
    "scrolled": true,
    "slideshow": {
     "slide_type": "fragment"
    }
   },
   "outputs": [],
   "source": [
    "df['hair_growth'].describe()"
   ]
  },
  {
   "cell_type": "code",
   "execution_count": null,
   "metadata": {
    "slideshow": {
     "slide_type": "fragment"
    }
   },
   "outputs": [],
   "source": [
    "# compare to actual value: 15 cm/year (~6 in)\n",
    "df[\"hair_growth\"].median()"
   ]
  },
  {
   "cell_type": "markdown",
   "metadata": {
    "slideshow": {
     "slide_type": "slide"
    }
   },
   "source": [
    "## Cleaning: Crammed\n",
    "\n",
    "If every living person stood crammed together side-by-side, how large of an area would they occupy (km²)?"
   ]
  },
  {
   "cell_type": "code",
   "execution_count": null,
   "metadata": {
    "scrolled": false,
    "slideshow": {
     "slide_type": "fragment"
    }
   },
   "outputs": [],
   "source": [
    "df['crammed'].unique()"
   ]
  },
  {
   "cell_type": "code",
   "execution_count": null,
   "metadata": {
    "collapsed": true,
    "slideshow": {
     "slide_type": "fragment"
    }
   },
   "outputs": [],
   "source": [
    "# standardize crammed column\n",
    "def standardize_crammed(string):\n",
    "    \n",
    "    orig = string\n",
    "    output = None\n",
    "    \n",
    "    # Basic string pre-processing\n",
    "    string = string.lower()\n",
    "    string = string.strip()\n",
    "    \n",
    "    # take care of commas\n",
    "    string = string.replace(\",\", \"\")\n",
    "\n",
    "    # take care of included unit cases\n",
    "    string = string.replace(\"(km^2)\", \"\")\n",
    "    string = string.replace(\"km^2\", \"\")\n",
    "    string = string.replace(\"km ^2\", \"\")\n",
    "    string = string.replace(\"km2\", \"\")\n",
    "    string = string.replace(\"km²\", \"\")\n",
    "    string = string.replace(\"km\", \"\")\n",
    "    string = string.replace(\"squared\", \"\")\n",
    "    string = string.replace(\"square\", \"\")\n",
    "    string = string.replace(\"sq\", \"\")\n",
    "    \n",
    "    # take care of various scientific notation cases\n",
    "    string = string.replace(\"1.13 * 10^12\", \"1130000000000\")\n",
    "    string = string.replace(\"2.4x10^7\", \"24000000\")\n",
    "    string = string.replace(\"3.5x10^9 \", \"3500000000\")\n",
    "    string = string.replace(\"2.4 *10\", \"24\")\n",
    "    string = string.replace(\"3.2 * 10^10 \", \"32000000000\")\n",
    "    string = string.replace(\"1oo\", \"100\")\n",
    "    string = string.replace(\"7.14x10^7\", \"71400000\")\n",
    "    string = string.replace(\"7x(10^3)\", \"7000\")\n",
    "    string = string.replace(\"3.6 * 10^13\", \"36000000000000\")\n",
    "    string = string.replace(\"3.5*10^4\", \"35000\")\n",
    "    string = string.replace(\"1.0 x 10^10\", \"10000000000\")\n",
    "   \n",
    "    # take care of general scientific notation\n",
    "    string = string.replace(\"x10^2\", \"00\")\n",
    "    string = string.replace(\"*(10^3)\", \"000\")\n",
    "    string = string.replace(\"10^2\", \"100\")\n",
    "    string = string.replace(\"10^3\", \"1000\")\n",
    "    string = string.replace(\"10^4\", \"10000\")\n",
    "    string = string.replace(\"*10^5\", \"00000\")\n",
    "    string = string.replace(\" x 10^5\", \"00000\")\n",
    "    string = string.replace(\"10^5\", \"100000\")\n",
    "    string = string.replace(\"*10^6\", \"000000\")\n",
    "    string = string.replace(\" × 10^6\", \"000000\")\n",
    "    string = string.replace(\"10^6\", \"1000000\")\n",
    "    string = string.replace(\" * 10^7\", \"0000000\")\n",
    "    string = string.replace(\" x 10^7\", \"0000000\")\n",
    "    string = string.replace(\"10^7\", \"10000000\")\n",
    "    string = string.replace(\"*10^8\", \"100000000\")\n",
    "    string = string.replace(\"10^8\", \"100000000\")\n",
    "    string = string.replace(\" x 10^9\", \"000000000\")\n",
    "    string = string.replace(\"x 10^9\", \"000000000\")\n",
    "    string = string.replace(\"10^9\", \"1000000000\")\n",
    "    string = string.replace(\"10^10\", \"1000000000\")\n",
    "    string = string.replace(\"10^11\", \"00000000000\")\n",
    "    string = string.replace(\"10^15\", \"1000000000000000\")\n",
    "    string = string.replace(\" x 10^9\", \"000000000\")\n",
    "    string = string.replace(\"10x1000000\", \"10000000\")\n",
    "\n",
    "    \n",
    "    # take care of unique word cases\n",
    "    string = string.replace(\"10^-3 per person 1000000000 people on earth answer: [1000000]\", \"1000000\")\n",
    "    string = string.replace(\" million\", \"000000\")\n",
    "    string = string.replace(\"mill\", \"000000\")\n",
    "    string = string.replace(\" billion\", \"000000000\")\n",
    "    string = string.replace(\" quadrillion\", \"000000000000000\")\n",
    "    string = string.replace(\"the size of california\", \"423970\")\n",
    "\n",
    "    # convert to numeric\n",
    "    output = float(string)\n",
    "    \n",
    "    return output"
   ]
  },
  {
   "cell_type": "code",
   "execution_count": null,
   "metadata": {
    "scrolled": true,
    "slideshow": {
     "slide_type": "fragment"
    }
   },
   "outputs": [],
   "source": [
    "# apply function across values in crammed columns\n",
    "df[\"crammed\"] = df[\"crammed\"].apply(standardize_crammed)\n",
    "df[\"crammed\"].unique()"
   ]
  },
  {
   "cell_type": "code",
   "execution_count": null,
   "metadata": {
    "scrolled": false,
    "slideshow": {
     "slide_type": "fragment"
    }
   },
   "outputs": [],
   "source": [
    "df.dtypes"
   ]
  },
  {
   "cell_type": "code",
   "execution_count": null,
   "metadata": {
    "slideshow": {
     "slide_type": "fragment"
    }
   },
   "outputs": [],
   "source": [
    "# compare to actual value: 1,000-10,000 km^2)\n",
    "df['crammed'].median()"
   ]
  },
  {
   "cell_type": "markdown",
   "metadata": {
    "slideshow": {
     "slide_type": "slide"
    }
   },
   "source": [
    "## Cleaning: San Diego to NYC\n",
    "\n",
    "How many days would it take to walk from here to New York City (assuming no stopping to fix shoes, apply sunscreen, or for sleeping, eating, or other biological needs)?"
   ]
  },
  {
   "cell_type": "code",
   "execution_count": null,
   "metadata": {
    "scrolled": false,
    "slideshow": {
     "slide_type": "fragment"
    }
   },
   "outputs": [],
   "source": [
    "df['SAN_NYC'].unique()"
   ]
  },
  {
   "cell_type": "code",
   "execution_count": null,
   "metadata": {
    "collapsed": true,
    "slideshow": {
     "slide_type": "fragment"
    }
   },
   "outputs": [],
   "source": [
    "# standardize distance column\n",
    "def standardize_distance(string):\n",
    "    \n",
    "    orig = string\n",
    "    output = None\n",
    "    \n",
    "    # Basic string pre-processing\n",
    "    string = string.lower()\n",
    "    string = string.strip()\n",
    "    \n",
    "    # take care of special/unclear cases\n",
    "    string = string.replace(\"forever\", \"NaN\")\n",
    "    string = string.replace('42 (i\\'m assuming \"here\" means ucsd)', \"42\")\n",
    "    string = string.replace(\"100 days (at 30mi/day)\", \"100\")\n",
    "    string = string.replace(\"1.8 * 10\", \"18\")\n",
    "\n",
    "    # remove units\n",
    "    string = string.replace(\"days\", \"\")\n",
    "\n",
    "    # take care of non-days answers\n",
    "    string = string.replace(\"3 years\", \"1095\")\n",
    "    string = string.replace(\"2 years\", \"730\")\n",
    "    string = string.replace(\"1 1/2 months\", \"45\")\n",
    "    string = string.replace(\"3 months\", \"92\")\n",
    "    string = string.replace(\"2 months\", \"61\")\n",
    "    string = string.replace(\"6 months\", \"180\")\n",
    "    string = string.replace(\"1 week\", \"7\")\n",
    "    string = string.replace(\"36000 minutes\", \"25\")\n",
    "\n",
    "    \n",
    "    # take care of 'punctuation'\n",
    "    string = string.replace(\",\", \"\")\n",
    "    \n",
    "    # take care of scientific notation \n",
    "    string = string.replace(\"10^2\", \"100\")\n",
    "    string = string.replace(\"10^3\", \"1000\")\n",
    "    string = string.replace(\"10^4\", \"10000\")\n",
    "    string = string.replace(\"10^5\", \"100000\")\n",
    "\n",
    "    \n",
    "    string = string.strip()\n",
    "\n",
    "    # convert to numeric\n",
    "    output = float(string)\n",
    "    \n",
    "    return output"
   ]
  },
  {
   "cell_type": "code",
   "execution_count": null,
   "metadata": {
    "scrolled": true,
    "slideshow": {
     "slide_type": "fragment"
    }
   },
   "outputs": [],
   "source": [
    "# apply function across values in crammed columns\n",
    "df[\"SAN_NYC\"] = df[\"SAN_NYC\"].apply(standardize_distance)\n",
    "df[\"SAN_NYC\"].unique()"
   ]
  },
  {
   "cell_type": "code",
   "execution_count": null,
   "metadata": {
    "scrolled": true,
    "slideshow": {
     "slide_type": "fragment"
    }
   },
   "outputs": [],
   "source": [
    "# compare to actual value: 38 days)\n",
    "df['SAN_NYC'].median()"
   ]
  },
  {
   "cell_type": "markdown",
   "metadata": {
    "slideshow": {
     "slide_type": "slide"
    }
   },
   "source": [
    "## Take Home Messages\n",
    "\n",
    "1. Look at your data! (People behave unexpectedly.)\n",
    "2. Get your data into a tidy data format.\n",
    "3. Fix (Standardize) your data - or, better yet, collect better data!\n",
    "4. Use your intuition/knowledge/information out there to consider if values make sense."
   ]
  }
 ],
 "metadata": {
  "celltoolbar": "Slideshow",
  "kernelspec": {
   "display_name": "Python 3",
   "language": "python",
   "name": "python3"
  },
  "language_info": {
   "codemirror_mode": {
    "name": "ipython",
    "version": 3
   },
   "file_extension": ".py",
   "mimetype": "text/x-python",
   "name": "python",
   "nbconvert_exporter": "python",
   "pygments_lexer": "ipython3",
   "version": "3.6.3"
  },
  "rise": {
   "scroll": true
  }
 },
 "nbformat": 4,
 "nbformat_minor": 2
}
